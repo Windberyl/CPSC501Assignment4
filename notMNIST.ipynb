{
  "nbformat": 4,
  "nbformat_minor": 0,
  "metadata": {
    "colab": {
      "name": "notMNIST.ipynb",
      "provenance": [],
      "collapsed_sections": []
    },
    "kernelspec": {
      "name": "python3",
      "display_name": "Python 3"
    }
  },
  "cells": [
    {
      "cell_type": "code",
      "metadata": {
        "id": "Z1o4PRH6KJuJ",
        "colab_type": "code",
        "colab": {}
      },
      "source": [
        "\n",
        "try:\n",
        "  # %tensorflow_version only exists in Colab.\n",
        "  %tensorflow_version 2.x\n",
        "except Exception:\n",
        "  pass"
      ],
      "execution_count": 0,
      "outputs": []
    },
    {
      "cell_type": "markdown",
      "metadata": {
        "id": "w4ughi_1E4dp",
        "colab_type": "text"
      },
      "source": [
        "Upload notMNIST.npz"
      ]
    },
    {
      "cell_type": "code",
      "metadata": {
        "id": "S4eVDT0IKKbh",
        "colab_type": "code",
        "colab": {}
      },
      "source": [
        "from google.colab import files\n",
        "uploaded = files.upload()"
      ],
      "execution_count": 0,
      "outputs": []
    },
    {
      "cell_type": "code",
      "metadata": {
        "id": "UmlX83--KT6M",
        "colab_type": "code",
        "outputId": "c4357504-ffaf-4138-c733-320f38d0988b",
        "colab": {
          "base_uri": "https://localhost:8080/",
          "height": 1000
        }
      },
      "source": [
        "import tensorflow as tf\n",
        "import numpy as np\n",
        "\n",
        "print(\"--Get data--\")\n",
        "with np.load(\"notMNIST.npz\", allow_pickle=True) as f:\n",
        "    x_train, y_train = f['x_train'], f['y_train']\n",
        "    x_test, y_test = f['x_test'], f['y_test']\n",
        "\n",
        "print(\"--Process data--\")\n",
        "print(len(y_train))\n",
        "x_train, x_test = x_train / 255.0, x_test / 255.0\n",
        " \n",
        "print(\"--Make model--\")\n",
        "model = tf.keras.models.Sequential([\n",
        "  tf.keras.layers.Flatten(input_shape=(28, 28)),\n",
        "  tf.keras.layers.Dense(256, 'relu'),\n",
        "  tf.keras.layers.Dense(256, 'relu'),\n",
        "  tf.keras.layers.Dense(256, 'relu'),\n",
        "  tf.keras.layers.Dense(256, 'relu'),\n",
        "  tf.keras.layers.Dense(256, 'relu'),\n",
        "  tf.keras.layers.Dense(256, 'relu'),\n",
        "  tf.keras.layers.Dropout(0.3),\n",
        "  tf.keras.layers.Dense(10, activation='softmax')\n",
        "])\n",
        "model.compile(optimizer='sgd', loss='sparse_categorical_crossentropy', metrics=['accuracy'])\n",
        "\n",
        "print(\"--Fit model--\")\n",
        "model.fit(x_train, y_train, epochs=30, verbose=2)\n",
        "\n",
        "print(\"--Evaluate model--\")\n",
        "model_loss, model_acc = model.evaluate(x_test,  y_test, verbose=2)\n",
        "print(f\"Model Loss:    {model_loss:.2f}\")\n",
        "print(f\"Model Accuray: {model_acc*100:.1f}%\")"
      ],
      "execution_count": 0,
      "outputs": [
        {
          "output_type": "stream",
          "text": [
            "--Get data--\n",
            "--Process data--\n",
            "60000\n",
            "--Make model--\n",
            "WARNING:tensorflow:From /usr/local/lib/python3.6/dist-packages/tensorflow_core/python/ops/resource_variable_ops.py:1630: calling BaseResourceVariable.__init__ (from tensorflow.python.ops.resource_variable_ops) with constraint is deprecated and will be removed in a future version.\n",
            "Instructions for updating:\n",
            "If using Keras pass *_constraint arguments to layers.\n",
            "--Fit model--\n",
            "Train on 60000 samples\n",
            "Epoch 1/30\n",
            "60000/60000 - 12s - loss: 0.8685 - acc: 0.7462\n",
            "Epoch 2/30\n",
            "60000/60000 - 11s - loss: 0.5511 - acc: 0.8358\n",
            "Epoch 3/30\n",
            "60000/60000 - 11s - loss: 0.5010 - acc: 0.8490\n",
            "Epoch 4/30\n",
            "60000/60000 - 10s - loss: 0.4655 - acc: 0.8585\n",
            "Epoch 5/30\n",
            "60000/60000 - 10s - loss: 0.4384 - acc: 0.8657\n",
            "Epoch 6/30\n",
            "60000/60000 - 10s - loss: 0.4143 - acc: 0.8742\n",
            "Epoch 7/30\n",
            "60000/60000 - 10s - loss: 0.3920 - acc: 0.8804\n",
            "Epoch 8/30\n",
            "60000/60000 - 9s - loss: 0.3726 - acc: 0.8861\n",
            "Epoch 9/30\n",
            "60000/60000 - 9s - loss: 0.3546 - acc: 0.8925\n",
            "Epoch 10/30\n",
            "60000/60000 - 9s - loss: 0.3363 - acc: 0.8980\n",
            "Epoch 11/30\n",
            "60000/60000 - 9s - loss: 0.3211 - acc: 0.9017\n",
            "Epoch 12/30\n",
            "60000/60000 - 9s - loss: 0.3044 - acc: 0.9075\n",
            "Epoch 13/30\n",
            "60000/60000 - 9s - loss: 0.2905 - acc: 0.9105\n",
            "Epoch 14/30\n",
            "60000/60000 - 10s - loss: 0.2752 - acc: 0.9158\n",
            "Epoch 15/30\n",
            "60000/60000 - 10s - loss: 0.2610 - acc: 0.9201\n",
            "Epoch 16/30\n",
            "60000/60000 - 9s - loss: 0.2493 - acc: 0.9231\n",
            "Epoch 17/30\n",
            "60000/60000 - 10s - loss: 0.2370 - acc: 0.9261\n",
            "Epoch 18/30\n",
            "60000/60000 - 10s - loss: 0.2239 - acc: 0.9308\n",
            "Epoch 19/30\n",
            "60000/60000 - 10s - loss: 0.2120 - acc: 0.9347\n",
            "Epoch 20/30\n",
            "60000/60000 - 11s - loss: 0.1990 - acc: 0.9380\n",
            "Epoch 21/30\n",
            "60000/60000 - 10s - loss: 0.1902 - acc: 0.9405\n",
            "Epoch 22/30\n",
            "60000/60000 - 10s - loss: 0.1780 - acc: 0.9451\n",
            "Epoch 23/30\n",
            "60000/60000 - 10s - loss: 0.1686 - acc: 0.9482\n",
            "Epoch 24/30\n",
            "60000/60000 - 10s - loss: 0.1590 - acc: 0.9503\n",
            "Epoch 25/30\n",
            "60000/60000 - 10s - loss: 0.1511 - acc: 0.9533\n",
            "Epoch 26/30\n",
            "60000/60000 - 10s - loss: 0.1436 - acc: 0.9550\n",
            "Epoch 27/30\n",
            "60000/60000 - 10s - loss: 0.1337 - acc: 0.9589\n",
            "Epoch 28/30\n",
            "60000/60000 - 10s - loss: 0.1307 - acc: 0.9589\n",
            "Epoch 29/30\n",
            "60000/60000 - 10s - loss: 0.1235 - acc: 0.9610\n",
            "Epoch 30/30\n",
            "60000/60000 - 10s - loss: 0.1177 - acc: 0.9643\n",
            "--Evaluate model--\n",
            "10000/10000 - 1s - loss: 0.3313 - acc: 0.9284\n",
            "Model Loss:    0.33\n",
            "Model Accuray: 92.8%\n"
          ],
          "name": "stdout"
        }
      ]
    },
    {
      "cell_type": "code",
      "metadata": {
        "id": "FqOYMbbzEwUt",
        "colab_type": "code",
        "outputId": "cf9703d9-36f1-428e-8663-e2aa36cadd81",
        "colab": {
          "base_uri": "https://localhost:8080/",
          "height": 168
        }
      },
      "source": [
        "model.save('notMNIST.h5')"
      ],
      "execution_count": 0,
      "outputs": [
        {
          "output_type": "error",
          "ename": "NameError",
          "evalue": "ignored",
          "traceback": [
            "\u001b[0;31m---------------------------------------------------------------------------\u001b[0m",
            "\u001b[0;31mNameError\u001b[0m                                 Traceback (most recent call last)",
            "\u001b[0;32m<ipython-input-1-4be22ae099b2>\u001b[0m in \u001b[0;36m<module>\u001b[0;34m()\u001b[0m\n\u001b[0;32m----> 1\u001b[0;31m \u001b[0mmodel\u001b[0m\u001b[0;34m.\u001b[0m\u001b[0msave\u001b[0m\u001b[0;34m(\u001b[0m\u001b[0;34m'notMNIST.h5'\u001b[0m\u001b[0;34m)\u001b[0m\u001b[0;34m\u001b[0m\u001b[0;34m\u001b[0m\u001b[0m\n\u001b[0m",
            "\u001b[0;31mNameError\u001b[0m: name 'model' is not defined"
          ]
        }
      ]
    },
    {
      "cell_type": "code",
      "metadata": {
        "id": "03ZLaLRVEweP",
        "colab_type": "code",
        "colab": {}
      },
      "source": [
        "from google.colab import files\n",
        "files.download('notMNIST.h5')"
      ],
      "execution_count": 0,
      "outputs": []
    }
  ]
}