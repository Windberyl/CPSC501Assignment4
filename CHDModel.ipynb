{
  "nbformat": 4,
  "nbformat_minor": 0,
  "metadata": {
    "colab": {
      "name": "CHDModel.ipynb",
      "provenance": [],
      "collapsed_sections": []
    },
    "kernelspec": {
      "name": "python3",
      "display_name": "Python 3"
    }
  },
  "cells": [
    {
      "cell_type": "markdown",
      "metadata": {
        "colab_type": "text",
        "id": "DjTRvo48Jv9n"
      },
      "source": [
        ""
      ]
    },
    {
      "cell_type": "code",
      "metadata": {
        "id": "hPVwrvsWYlw9",
        "colab_type": "code",
        "outputId": "9cefe7c6-765e-4158-af4a-514bbea3e36f",
        "colab": {
          "base_uri": "https://localhost:8080/",
          "height": 34
        }
      },
      "source": [
        "try:\n",
        "  # %tensorflow_version only exists in Colab.\n",
        "  %tensorflow_version 2.x\n",
        "except Exception:\n",
        "  pass"
      ],
      "execution_count": 1,
      "outputs": [
        {
          "output_type": "stream",
          "text": [
            "TensorFlow 2.x selected.\n"
          ],
          "name": "stdout"
        }
      ]
    },
    {
      "cell_type": "markdown",
      "metadata": {
        "id": "vHTtuVtQiS2B",
        "colab_type": "text"
      },
      "source": [
        "Load imports"
      ]
    },
    {
      "cell_type": "code",
      "metadata": {
        "id": "xdep3C5viPFr",
        "colab_type": "code",
        "colab": {}
      },
      "source": [
        "from __future__ import absolute_import, division, print_function, unicode_literals\n",
        "import functools\n",
        "\n",
        "import numpy as np\n",
        "import tensorflow as tf"
      ],
      "execution_count": 0,
      "outputs": []
    },
    {
      "cell_type": "markdown",
      "metadata": {
        "id": "aiKyxn9efvmK",
        "colab_type": "text"
      },
      "source": [
        "Load heart_train.csv and heart_test.csv"
      ]
    },
    {
      "cell_type": "code",
      "metadata": {
        "id": "dua_f4RhE4mo",
        "colab_type": "code",
        "outputId": "c8aeacad-4d34-4a20-f8d0-636485fa8405",
        "colab": {
          "resources": {
            "http://localhost:8080/nbextensions/google.colab/files.js": {
              "data": "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",
              "ok": true,
              "headers": [
                [
                  "content-type",
                  "application/javascript"
                ]
              ],
              "status": 200,
              "status_text": ""
            }
          },
          "base_uri": "https://localhost:8080/",
          "height": 74
        }
      },
      "source": [
        "from google.colab import files\n",
        "uploaded = files.upload()"
      ],
      "execution_count": 2,
      "outputs": [
        {
          "output_type": "display_data",
          "data": {
            "text/html": [
              "\n",
              "     <input type=\"file\" id=\"files-46286ecd-b651-4652-bb68-1455dea8c7c7\" name=\"files[]\" multiple disabled />\n",
              "     <output id=\"result-46286ecd-b651-4652-bb68-1455dea8c7c7\">\n",
              "      Upload widget is only available when the cell has been executed in the\n",
              "      current browser session. Please rerun this cell to enable.\n",
              "      </output>\n",
              "      <script src=\"/nbextensions/google.colab/files.js\"></script> "
            ],
            "text/plain": [
              "<IPython.core.display.HTML object>"
            ]
          },
          "metadata": {
            "tags": []
          }
        },
        {
          "output_type": "stream",
          "text": [
            "Saving heart_train.csv to heart_train (1).csv\n"
          ],
          "name": "stdout"
        }
      ]
    },
    {
      "cell_type": "code",
      "metadata": {
        "id": "RuX2EyAfzqqs",
        "colab_type": "code",
        "colab": {}
      },
      "source": [
        "LABEL_COLUMN = 'chd'\n",
        "LABELS = [0, 1]"
      ],
      "execution_count": 0,
      "outputs": []
    },
    {
      "cell_type": "markdown",
      "metadata": {
        "colab_type": "text",
        "id": "_YASVwU5Jvk8"
      },
      "source": [
        "Check file contents"
      ]
    },
    {
      "cell_type": "code",
      "metadata": {
        "id": "zotgyuZNzmN3",
        "colab_type": "code",
        "colab": {}
      },
      "source": [
        "def get_dataset(file_path, **kwargs):\n",
        "  dataset = tf.data.experimental.make_csv_dataset(\n",
        "      file_path,\n",
        "      batch_size=5, # Artificially small to make examples easier to show.\n",
        "      label_name=LABEL_COLUMN,\n",
        "      na_value=\"?\",\n",
        "      num_epochs=1,\n",
        "      ignore_errors=True, \n",
        "      **kwargs)\n",
        "  return dataset"
      ],
      "execution_count": 0,
      "outputs": []
    },
    {
      "cell_type": "code",
      "metadata": {
        "id": "zgiGu5S5Xla-",
        "colab_type": "code",
        "colab": {}
      },
      "source": [
        "def show_batch(dataset):\n",
        "  for batch, label in dataset.take(1):\n",
        "    for key, value in batch.items():\n",
        "      print(\"{:20s}: {}\".format(key,value.numpy()))"
      ],
      "execution_count": 0,
      "outputs": []
    },
    {
      "cell_type": "code",
      "metadata": {
        "id": "XK71xpfaIwYS",
        "colab_type": "code",
        "colab": {
          "base_uri": "https://localhost:8080/",
          "height": 241
        },
        "outputId": "9f2394ad-9875-4085-e103-45818c5dfee6"
      },
      "source": [
        "SELECT_COLUMNS = ['chd', 'sbp', 'tobacco', 'ldl', 'adiposity', 'famhist', 'typea', 'obesity', 'alcohol', 'age']\n",
        "\n",
        "train_dataset = get_dataset(\"heart_train.csv\", select_columns=SELECT_COLUMNS)\n",
        "test_dataset = get_dataset(\"heart_test.csv\", select_columns=SELECT_COLUMNS)\n",
        "\n",
        "show_batch(train_dataset)"
      ],
      "execution_count": 6,
      "outputs": [
        {
          "output_type": "stream",
          "text": [
            "WARNING:tensorflow:From /tensorflow-2.0.0/python3.6/tensorflow_core/python/data/experimental/ops/readers.py:521: parallel_interleave (from tensorflow.python.data.experimental.ops.interleave_ops) is deprecated and will be removed in a future version.\n",
            "Instructions for updating:\n",
            "Use `tf.data.Dataset.interleave(map_func, cycle_length, block_length, num_parallel_calls=tf.data.experimental.AUTOTUNE)` instead. If sloppy execution is desired, use `tf.data.Options.experimental_determinstic`.\n",
            "sbp                 : [124 166 126 108 140]\n",
            "tobacco             : [ 4.   6.  10.5 15.   4.2]\n",
            "ldl                 : [6.65 8.8  4.49 4.91 2.91]\n",
            "adiposity           : [30.84 37.89 17.33 34.65 28.83]\n",
            "famhist             : [b'Present' b'Absent' b'Absent' b'Absent' b'Present']\n",
            "typea               : [54 39 67 41 43]\n",
            "obesity             : [28.4  28.7  19.37 27.96 24.7 ]\n",
            "alcohol             : [33.51 43.2   0.   14.4  47.52]\n",
            "age                 : [60 52 49 56 48]\n"
          ],
          "name": "stdout"
        }
      ]
    },
    {
      "cell_type": "code",
      "metadata": {
        "id": "lssFuADCLW8E",
        "colab_type": "code",
        "colab": {}
      },
      "source": [
        "def pack(features, label):\n",
        "  return tf.stack(list(features.values()), axis=-1), label"
      ],
      "execution_count": 0,
      "outputs": []
    },
    {
      "cell_type": "code",
      "metadata": {
        "id": "TXHdQjXwLjGv",
        "colab_type": "code",
        "colab": {}
      },
      "source": [
        "class PackNumericFeatures(object):\n",
        "  def __init__(self, names):\n",
        "    self.names = names\n",
        "\n",
        "  def __call__(self, features, labels):\n",
        "    numeric_features = [features.pop(name) for name in self.names]\n",
        "    numeric_features = [tf.cast(feat, tf.float32) for feat in numeric_features]\n",
        "    numeric_features = tf.stack(numeric_features, axis=-1)\n",
        "    features['numeric'] = numeric_features\n",
        "\n",
        "    return features, labels"
      ],
      "execution_count": 0,
      "outputs": []
    },
    {
      "cell_type": "code",
      "metadata": {
        "id": "QeTD2IByREPL",
        "colab_type": "code",
        "colab": {
          "base_uri": "https://localhost:8080/",
          "height": 119
        },
        "outputId": "ee250af1-9c50-42cd-86de-2fedb1406afb"
      },
      "source": [
        "NUMERIC_FEATURES = ['sbp', 'tobacco', 'ldl', 'adiposity', 'typea', 'obesity', 'alcohol', 'age']\n",
        "\n",
        "packed_train_data = train_dataset.map(\n",
        "    PackNumericFeatures(NUMERIC_FEATURES))\n",
        "\n",
        "packed_test_data = test_dataset.map(\n",
        "    PackNumericFeatures(NUMERIC_FEATURES))\n",
        "\n",
        "example_batch, labels_batch = next(iter(packed_train_data)) \n",
        "\n",
        "show_batch(packed_train_data)"
      ],
      "execution_count": 9,
      "outputs": [
        {
          "output_type": "stream",
          "text": [
            "famhist             : [b'Present' b'Absent' b'Present' b'Absent' b'Absent']\n",
            "numeric             : [[138.     0.     1.96  11.82  54.    22.01   8.13  21.  ]\n",
            " [118.     0.     2.39  12.13  49.    18.46   0.26  17.  ]\n",
            " [154.     2.4    5.63  42.17  59.    35.07  12.86  50.  ]\n",
            " [132.     0.     4.17  36.57  57.    30.61  18.    49.  ]\n",
            " [142.     0.     4.19  18.04  56.    23.65  20.78  42.  ]]\n"
          ],
          "name": "stdout"
        }
      ]
    },
    {
      "cell_type": "code",
      "metadata": {
        "id": "jIm30WkRUO8G",
        "colab_type": "code",
        "colab": {
          "base_uri": "https://localhost:8080/",
          "height": 297
        },
        "outputId": "a5108fdf-73f4-421e-eae6-dfe7c54597e8"
      },
      "source": [
        "import pandas as pd\n",
        "desc = pd.read_csv(\"heart_train.csv\")[NUMERIC_FEATURES].describe()\n",
        "desc"
      ],
      "execution_count": 10,
      "outputs": [
        {
          "output_type": "execute_result",
          "data": {
            "text/html": [
              "<div>\n",
              "<style scoped>\n",
              "    .dataframe tbody tr th:only-of-type {\n",
              "        vertical-align: middle;\n",
              "    }\n",
              "\n",
              "    .dataframe tbody tr th {\n",
              "        vertical-align: top;\n",
              "    }\n",
              "\n",
              "    .dataframe thead th {\n",
              "        text-align: right;\n",
              "    }\n",
              "</style>\n",
              "<table border=\"1\" class=\"dataframe\">\n",
              "  <thead>\n",
              "    <tr style=\"text-align: right;\">\n",
              "      <th></th>\n",
              "      <th>sbp</th>\n",
              "      <th>tobacco</th>\n",
              "      <th>ldl</th>\n",
              "      <th>adiposity</th>\n",
              "      <th>typea</th>\n",
              "      <th>obesity</th>\n",
              "      <th>alcohol</th>\n",
              "      <th>age</th>\n",
              "    </tr>\n",
              "  </thead>\n",
              "  <tbody>\n",
              "    <tr>\n",
              "      <th>count</th>\n",
              "      <td>396.000000</td>\n",
              "      <td>396.000000</td>\n",
              "      <td>396.000000</td>\n",
              "      <td>396.000000</td>\n",
              "      <td>396.000000</td>\n",
              "      <td>396.000000</td>\n",
              "      <td>396.000000</td>\n",
              "      <td>396.000000</td>\n",
              "    </tr>\n",
              "    <tr>\n",
              "      <th>mean</th>\n",
              "      <td>139.088384</td>\n",
              "      <td>3.534470</td>\n",
              "      <td>4.721641</td>\n",
              "      <td>25.417854</td>\n",
              "      <td>52.611111</td>\n",
              "      <td>25.980404</td>\n",
              "      <td>17.155328</td>\n",
              "      <td>42.727273</td>\n",
              "    </tr>\n",
              "    <tr>\n",
              "      <th>std</th>\n",
              "      <td>20.883153</td>\n",
              "      <td>4.622259</td>\n",
              "      <td>1.969109</td>\n",
              "      <td>7.862184</td>\n",
              "      <td>9.908200</td>\n",
              "      <td>4.185559</td>\n",
              "      <td>24.696052</td>\n",
              "      <td>14.758524</td>\n",
              "    </tr>\n",
              "    <tr>\n",
              "      <th>min</th>\n",
              "      <td>101.000000</td>\n",
              "      <td>0.000000</td>\n",
              "      <td>0.980000</td>\n",
              "      <td>6.740000</td>\n",
              "      <td>13.000000</td>\n",
              "      <td>14.700000</td>\n",
              "      <td>0.000000</td>\n",
              "      <td>15.000000</td>\n",
              "    </tr>\n",
              "    <tr>\n",
              "      <th>25%</th>\n",
              "      <td>125.500000</td>\n",
              "      <td>0.050000</td>\n",
              "      <td>3.300000</td>\n",
              "      <td>19.825000</td>\n",
              "      <td>46.000000</td>\n",
              "      <td>22.757500</td>\n",
              "      <td>0.510000</td>\n",
              "      <td>31.000000</td>\n",
              "    </tr>\n",
              "    <tr>\n",
              "      <th>50%</th>\n",
              "      <td>134.000000</td>\n",
              "      <td>1.800000</td>\n",
              "      <td>4.325000</td>\n",
              "      <td>26.115000</td>\n",
              "      <td>53.000000</td>\n",
              "      <td>25.780000</td>\n",
              "      <td>7.780000</td>\n",
              "      <td>44.500000</td>\n",
              "    </tr>\n",
              "    <tr>\n",
              "      <th>75%</th>\n",
              "      <td>148.500000</td>\n",
              "      <td>5.152500</td>\n",
              "      <td>5.632500</td>\n",
              "      <td>31.102500</td>\n",
              "      <td>59.000000</td>\n",
              "      <td>28.402500</td>\n",
              "      <td>23.737500</td>\n",
              "      <td>55.250000</td>\n",
              "    </tr>\n",
              "    <tr>\n",
              "      <th>max</th>\n",
              "      <td>218.000000</td>\n",
              "      <td>31.200000</td>\n",
              "      <td>14.160000</td>\n",
              "      <td>42.490000</td>\n",
              "      <td>77.000000</td>\n",
              "      <td>45.720000</td>\n",
              "      <td>147.190000</td>\n",
              "      <td>64.000000</td>\n",
              "    </tr>\n",
              "  </tbody>\n",
              "</table>\n",
              "</div>"
            ],
            "text/plain": [
              "              sbp     tobacco         ldl  ...     obesity     alcohol         age\n",
              "count  396.000000  396.000000  396.000000  ...  396.000000  396.000000  396.000000\n",
              "mean   139.088384    3.534470    4.721641  ...   25.980404   17.155328   42.727273\n",
              "std     20.883153    4.622259    1.969109  ...    4.185559   24.696052   14.758524\n",
              "min    101.000000    0.000000    0.980000  ...   14.700000    0.000000   15.000000\n",
              "25%    125.500000    0.050000    3.300000  ...   22.757500    0.510000   31.000000\n",
              "50%    134.000000    1.800000    4.325000  ...   25.780000    7.780000   44.500000\n",
              "75%    148.500000    5.152500    5.632500  ...   28.402500   23.737500   55.250000\n",
              "max    218.000000   31.200000   14.160000  ...   45.720000  147.190000   64.000000\n",
              "\n",
              "[8 rows x 8 columns]"
            ]
          },
          "metadata": {
            "tags": []
          },
          "execution_count": 10
        }
      ]
    },
    {
      "cell_type": "code",
      "metadata": {
        "id": "YOi_VpbSUoOO",
        "colab_type": "code",
        "colab": {}
      },
      "source": [
        "MEAN = np.array(desc.T['mean'])\n",
        "STD = np.array(desc.T['std'])\n",
        "def normalize_numeric_data(data, mean, std):\n",
        "  # Center the data\n",
        "  return (data-mean)/std"
      ],
      "execution_count": 0,
      "outputs": []
    },
    {
      "cell_type": "code",
      "metadata": {
        "id": "OL_8aiwsVAIU",
        "colab_type": "code",
        "colab": {
          "base_uri": "https://localhost:8080/",
          "height": 156
        },
        "outputId": "6d81469f-30c4-4ada-92a1-4b5fa940967a"
      },
      "source": [
        "# See what you just created.\n",
        "normalizer = functools.partial(normalize_numeric_data, mean=MEAN, std=STD)\n",
        "\n",
        "numeric_column = tf.feature_column.numeric_column('numeric', normalizer_fn=normalizer, shape=[len(NUMERIC_FEATURES)])\n",
        "numeric_columns = [numeric_column]\n",
        "example_batch['numeric']\n",
        "numeric_layer = tf.keras.layers.DenseFeatures(numeric_columns)\n",
        "numeric_layer(example_batch).numpy()\n",
        "\n",
        "CATEGORIES = {\n",
        "    'famhist': ['present', 'absent'],\n",
        "}\n",
        "\n",
        "categorical_columns = []\n",
        "for feature, vocab in CATEGORIES.items():\n",
        "  cat_col = tf.feature_column.categorical_column_with_vocabulary_list(\n",
        "        key=feature, vocabulary_list=vocab)\n",
        "  categorical_columns.append(tf.feature_column.indicator_column(cat_col))\n",
        "\n",
        "categorical_layer = tf.keras.layers.DenseFeatures(categorical_columns)\n",
        "print(categorical_layer(example_batch).numpy()[0])"
      ],
      "execution_count": 12,
      "outputs": [
        {
          "output_type": "stream",
          "text": [
            "WARNING:tensorflow:From /tensorflow-2.0.0/python3.6/tensorflow_core/python/feature_column/feature_column_v2.py:4276: IndicatorColumn._variable_shape (from tensorflow.python.feature_column.feature_column_v2) is deprecated and will be removed in a future version.\n",
            "Instructions for updating:\n",
            "The old _FeatureColumn APIs are being deprecated. Please use the new FeatureColumn APIs instead.\n",
            "WARNING:tensorflow:From /tensorflow-2.0.0/python3.6/tensorflow_core/python/feature_column/feature_column_v2.py:4331: VocabularyListCategoricalColumn._num_buckets (from tensorflow.python.feature_column.feature_column_v2) is deprecated and will be removed in a future version.\n",
            "Instructions for updating:\n",
            "The old _FeatureColumn APIs are being deprecated. Please use the new FeatureColumn APIs instead.\n",
            "[0. 0.]\n"
          ],
          "name": "stdout"
        }
      ]
    },
    {
      "cell_type": "code",
      "metadata": {
        "id": "If7EWhGBWsnD",
        "colab_type": "code",
        "colab": {
          "base_uri": "https://localhost:8080/",
          "height": 51
        },
        "outputId": "4caf8309-adb0-461b-a5d8-5cf0b9623aa1"
      },
      "source": [
        "preprocessing_layer = tf.keras.layers.DenseFeatures(categorical_columns+numeric_columns)\n",
        "print(preprocessing_layer(example_batch).numpy()[0])"
      ],
      "execution_count": 13,
      "outputs": [
        {
          "output_type": "stream",
          "text": [
            "[ 0.          0.          0.71405023  0.20888714 -0.02114749  1.8509039\n",
            "  0.84666127  1.7177143  -0.6323006   1.4413859 ]\n"
          ],
          "name": "stdout"
        }
      ]
    },
    {
      "cell_type": "code",
      "metadata": {
        "id": "5mY1sRPcSKKm",
        "colab_type": "code",
        "colab": {
          "base_uri": "https://localhost:8080/",
          "height": 1000
        },
        "outputId": "b49db421-7b4f-469b-ae79-f869e62f5563"
      },
      "source": [
        "model = tf.keras.Sequential([\n",
        "  preprocessing_layer,\n",
        "  tf.keras.layers.Dense(1024, activation='relu'),\n",
        "  tf.keras.layers.Dropout(0.2),\n",
        "  tf.keras.layers.Dense(1024, activation='relu'),\n",
        "  tf.keras.layers.Dense(1, activation='sigmoid'),\n",
        "])\n",
        "\n",
        "model.compile(loss='binary_crossentropy', optimizer='adam', metrics=['accuracy'])\n",
        "\n",
        "train_data = packed_train_data.shuffle(500)\n",
        "test_data = packed_test_data\n",
        "\n",
        "model.fit(train_data, epochs=50, verbose = 2)\n",
        "\n",
        "print(\"--Evaluate model--\")\n",
        "model_loss, model_acc = model.evaluate(test_data, verbose=2)\n",
        "print(f\"Model Loss:    {model_loss:.2f}\")\n",
        "print(f\"Model Accuray: {model_acc*100:.1f}%\")"
      ],
      "execution_count": 24,
      "outputs": [
        {
          "output_type": "stream",
          "text": [
            "Epoch 1/100\n",
            "80/80 - 2s - loss: 0.5965 - accuracy: 0.6465\n",
            "Epoch 2/100\n",
            "80/80 - 1s - loss: 0.5527 - accuracy: 0.7222\n",
            "Epoch 3/100\n",
            "80/80 - 2s - loss: 0.5259 - accuracy: 0.7096\n",
            "Epoch 4/100\n",
            "80/80 - 2s - loss: 0.5087 - accuracy: 0.7323\n",
            "Epoch 5/100\n",
            "80/80 - 1s - loss: 0.5138 - accuracy: 0.7222\n",
            "Epoch 6/100\n",
            "80/80 - 1s - loss: 0.5053 - accuracy: 0.7348\n",
            "Epoch 7/100\n",
            "80/80 - 1s - loss: 0.4905 - accuracy: 0.7449\n",
            "Epoch 8/100\n",
            "80/80 - 1s - loss: 0.4879 - accuracy: 0.7399\n",
            "Epoch 9/100\n",
            "80/80 - 1s - loss: 0.4586 - accuracy: 0.7753\n",
            "Epoch 10/100\n",
            "80/80 - 1s - loss: 0.4588 - accuracy: 0.7727\n",
            "Epoch 11/100\n",
            "80/80 - 1s - loss: 0.4532 - accuracy: 0.7753\n",
            "Epoch 12/100\n",
            "80/80 - 1s - loss: 0.4558 - accuracy: 0.7727\n",
            "Epoch 13/100\n",
            "80/80 - 1s - loss: 0.4314 - accuracy: 0.7854\n",
            "Epoch 14/100\n",
            "80/80 - 1s - loss: 0.4224 - accuracy: 0.7753\n",
            "Epoch 15/100\n",
            "80/80 - 1s - loss: 0.3925 - accuracy: 0.8232\n",
            "Epoch 16/100\n",
            "80/80 - 2s - loss: 0.3677 - accuracy: 0.8182\n",
            "Epoch 17/100\n",
            "80/80 - 1s - loss: 0.3556 - accuracy: 0.8106\n",
            "Epoch 18/100\n",
            "80/80 - 1s - loss: 0.3422 - accuracy: 0.8434\n",
            "Epoch 19/100\n",
            "80/80 - 1s - loss: 0.2935 - accuracy: 0.8586\n",
            "Epoch 20/100\n",
            "80/80 - 1s - loss: 0.2704 - accuracy: 0.8662\n",
            "Epoch 21/100\n",
            "80/80 - 1s - loss: 0.2635 - accuracy: 0.8687\n",
            "Epoch 22/100\n",
            "80/80 - 1s - loss: 0.2654 - accuracy: 0.8864\n",
            "Epoch 23/100\n",
            "80/80 - 1s - loss: 0.2596 - accuracy: 0.8763\n",
            "Epoch 24/100\n",
            "80/80 - 1s - loss: 0.2194 - accuracy: 0.9141\n",
            "Epoch 25/100\n",
            "80/80 - 1s - loss: 0.2111 - accuracy: 0.8939\n",
            "Epoch 26/100\n",
            "80/80 - 2s - loss: 0.2229 - accuracy: 0.9040\n",
            "Epoch 27/100\n",
            "80/80 - 2s - loss: 0.1883 - accuracy: 0.9343\n",
            "Epoch 28/100\n",
            "80/80 - 2s - loss: 0.1561 - accuracy: 0.9419\n",
            "Epoch 29/100\n",
            "80/80 - 2s - loss: 0.1325 - accuracy: 0.9495\n",
            "Epoch 30/100\n",
            "80/80 - 2s - loss: 0.1678 - accuracy: 0.9242\n",
            "Epoch 31/100\n",
            "80/80 - 1s - loss: 0.2331 - accuracy: 0.8990\n",
            "Epoch 32/100\n",
            "80/80 - 2s - loss: 0.1417 - accuracy: 0.9470\n",
            "Epoch 33/100\n",
            "80/80 - 2s - loss: 0.1035 - accuracy: 0.9747\n",
            "Epoch 34/100\n",
            "80/80 - 1s - loss: 0.1252 - accuracy: 0.9596\n",
            "Epoch 35/100\n",
            "80/80 - 1s - loss: 0.0858 - accuracy: 0.9823\n",
            "Epoch 36/100\n",
            "80/80 - 1s - loss: 0.0719 - accuracy: 0.9823\n",
            "Epoch 37/100\n",
            "80/80 - 1s - loss: 0.0766 - accuracy: 0.9773\n",
            "Epoch 38/100\n",
            "80/80 - 1s - loss: 0.0773 - accuracy: 0.9773\n",
            "Epoch 39/100\n",
            "80/80 - 1s - loss: 0.0533 - accuracy: 0.9848\n",
            "Epoch 40/100\n",
            "80/80 - 1s - loss: 0.0412 - accuracy: 0.9949\n",
            "Epoch 41/100\n",
            "80/80 - 1s - loss: 0.0301 - accuracy: 1.0000\n",
            "Epoch 42/100\n",
            "80/80 - 1s - loss: 0.0355 - accuracy: 0.9949\n",
            "Epoch 43/100\n",
            "80/80 - 1s - loss: 0.0851 - accuracy: 0.9747\n",
            "Epoch 44/100\n",
            "80/80 - 1s - loss: 0.1620 - accuracy: 0.9495\n",
            "Epoch 45/100\n",
            "80/80 - 2s - loss: 0.0852 - accuracy: 0.9672\n",
            "Epoch 46/100\n",
            "80/80 - 2s - loss: 0.0882 - accuracy: 0.9646\n",
            "Epoch 47/100\n",
            "80/80 - 2s - loss: 0.0740 - accuracy: 0.9848\n",
            "Epoch 48/100\n",
            "80/80 - 1s - loss: 0.0501 - accuracy: 0.9924\n",
            "Epoch 49/100\n",
            "80/80 - 1s - loss: 0.0578 - accuracy: 0.9899\n",
            "Epoch 50/100\n",
            "80/80 - 1s - loss: 0.0351 - accuracy: 0.9924\n",
            "Epoch 51/100\n",
            "80/80 - 1s - loss: 0.0290 - accuracy: 0.9949\n",
            "Epoch 52/100\n",
            "80/80 - 1s - loss: 0.0484 - accuracy: 0.9874\n",
            "Epoch 53/100\n",
            "80/80 - 1s - loss: 0.0469 - accuracy: 0.9848\n",
            "Epoch 54/100\n",
            "80/80 - 1s - loss: 0.0276 - accuracy: 0.9949\n",
            "Epoch 55/100\n",
            "80/80 - 1s - loss: 0.0147 - accuracy: 1.0000\n",
            "Epoch 56/100\n",
            "80/80 - 2s - loss: 0.0192 - accuracy: 0.9975\n",
            "Epoch 57/100\n",
            "80/80 - 1s - loss: 0.0307 - accuracy: 0.9924\n",
            "Epoch 58/100\n",
            "80/80 - 1s - loss: 0.0190 - accuracy: 0.9975\n",
            "Epoch 59/100\n",
            "80/80 - 1s - loss: 0.0151 - accuracy: 0.9975\n",
            "Epoch 60/100\n",
            "80/80 - 1s - loss: 0.0241 - accuracy: 0.9949\n",
            "Epoch 61/100\n",
            "80/80 - 1s - loss: 0.0145 - accuracy: 0.9975\n",
            "Epoch 62/100\n",
            "80/80 - 1s - loss: 0.0113 - accuracy: 0.9975\n",
            "Epoch 63/100\n",
            "80/80 - 1s - loss: 0.0145 - accuracy: 0.9975\n",
            "Epoch 64/100\n",
            "80/80 - 1s - loss: 0.0109 - accuracy: 0.9975\n",
            "Epoch 65/100\n",
            "80/80 - 1s - loss: 0.0098 - accuracy: 0.9949\n",
            "Epoch 66/100\n",
            "80/80 - 1s - loss: 0.0097 - accuracy: 0.9975\n",
            "Epoch 67/100\n",
            "80/80 - 1s - loss: 0.0084 - accuracy: 0.9975\n",
            "Epoch 68/100\n",
            "80/80 - 2s - loss: 0.0092 - accuracy: 0.9949\n",
            "Epoch 69/100\n",
            "80/80 - 1s - loss: 0.0225 - accuracy: 0.9924\n",
            "Epoch 70/100\n",
            "80/80 - 1s - loss: 0.1186 - accuracy: 0.9747\n",
            "Epoch 71/100\n",
            "80/80 - 1s - loss: 0.1531 - accuracy: 0.9520\n",
            "Epoch 72/100\n",
            "80/80 - 1s - loss: 0.3155 - accuracy: 0.9066\n",
            "Epoch 73/100\n",
            "80/80 - 1s - loss: 0.0834 - accuracy: 0.9672\n",
            "Epoch 74/100\n",
            "80/80 - 1s - loss: 0.0397 - accuracy: 0.9899\n",
            "Epoch 75/100\n",
            "80/80 - 1s - loss: 0.0179 - accuracy: 0.9975\n",
            "Epoch 76/100\n",
            "80/80 - 1s - loss: 0.0111 - accuracy: 0.9975\n",
            "Epoch 77/100\n",
            "80/80 - 1s - loss: 0.0085 - accuracy: 1.0000\n",
            "Epoch 78/100\n",
            "80/80 - 1s - loss: 0.0092 - accuracy: 0.9975\n",
            "Epoch 79/100\n",
            "80/80 - 1s - loss: 0.0086 - accuracy: 0.9975\n",
            "Epoch 80/100\n",
            "80/80 - 2s - loss: 0.0074 - accuracy: 0.9975\n",
            "Epoch 81/100\n",
            "80/80 - 1s - loss: 0.0043 - accuracy: 1.0000\n",
            "Epoch 82/100\n",
            "80/80 - 1s - loss: 0.0035 - accuracy: 1.0000\n",
            "Epoch 83/100\n",
            "80/80 - 1s - loss: 0.0034 - accuracy: 1.0000\n",
            "Epoch 84/100\n",
            "80/80 - 1s - loss: 0.0039 - accuracy: 1.0000\n",
            "Epoch 85/100\n",
            "80/80 - 1s - loss: 0.0037 - accuracy: 1.0000\n",
            "Epoch 86/100\n",
            "80/80 - 1s - loss: 0.0055 - accuracy: 0.9975\n",
            "Epoch 87/100\n",
            "80/80 - 1s - loss: 0.0031 - accuracy: 1.0000\n",
            "Epoch 88/100\n",
            "80/80 - 1s - loss: 0.0053 - accuracy: 0.9975\n",
            "Epoch 89/100\n",
            "80/80 - 1s - loss: 0.0122 - accuracy: 0.9949\n",
            "Epoch 90/100\n",
            "80/80 - 1s - loss: 0.0035 - accuracy: 1.0000\n",
            "Epoch 91/100\n",
            "80/80 - 1s - loss: 0.0034 - accuracy: 1.0000\n",
            "Epoch 92/100\n",
            "80/80 - 1s - loss: 0.0182 - accuracy: 0.9949\n",
            "Epoch 93/100\n",
            "80/80 - 1s - loss: 0.0073 - accuracy: 0.9975\n",
            "Epoch 94/100\n",
            "80/80 - 1s - loss: 0.0067 - accuracy: 0.9975\n",
            "Epoch 95/100\n",
            "80/80 - 1s - loss: 0.0145 - accuracy: 0.9975\n",
            "Epoch 96/100\n",
            "80/80 - 1s - loss: 0.0461 - accuracy: 0.9798\n",
            "Epoch 97/100\n",
            "80/80 - 1s - loss: 0.1177 - accuracy: 0.9697\n",
            "Epoch 98/100\n",
            "80/80 - 1s - loss: 0.1767 - accuracy: 0.9470\n",
            "Epoch 99/100\n",
            "80/80 - 1s - loss: 0.0554 - accuracy: 0.9823\n",
            "Epoch 100/100\n",
            "80/80 - 1s - loss: 0.0736 - accuracy: 0.9798\n",
            "--Evaluate model--\n",
            "14/14 - 0s - loss: 2.1655 - accuracy: 0.6515\n",
            "Model Loss:    2.17\n",
            "Model Accuray: 65.2%\n"
          ],
          "name": "stdout"
        }
      ]
    }
  ]
}