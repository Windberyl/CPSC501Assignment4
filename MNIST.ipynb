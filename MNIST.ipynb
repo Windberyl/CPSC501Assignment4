{
  "nbformat": 4,
  "nbformat_minor": 0,
  "metadata": {
    "colab": {
      "name": "MNIST.ipynb",
      "provenance": [],
      "collapsed_sections": []
    },
    "kernelspec": {
      "name": "python3",
      "display_name": "Python 3"
    }
  },
  "cells": [
    {
      "cell_type": "code",
      "metadata": {
        "id": "m4eZDEIAx0aH",
        "colab_type": "code",
        "outputId": "01ac4da3-7d18-4870-e186-c35681dc52c5",
        "colab": {
          "base_uri": "https://localhost:8080/",
          "height": 34
        }
      },
      "source": [
        "try:\n",
        "  # %tensorflow_version only exists in Colab.\n",
        "  %tensorflow_version 2.x\n",
        "except Exception:\n",
        "  pass"
      ],
      "execution_count": 0,
      "outputs": [
        {
          "output_type": "stream",
          "text": [
            "TensorFlow 2.x selected.\n"
          ],
          "name": "stdout"
        }
      ]
    },
    {
      "cell_type": "code",
      "metadata": {
        "id": "ITCcIDcJx02Q",
        "colab_type": "code",
        "outputId": "141286d0-44bb-42b1-aa5b-467a5378df3e",
        "colab": {
          "base_uri": "https://localhost:8080/",
          "height": 1000
        }
      },
      "source": [
        "import tensorflow as tf\n",
        "\n",
        "print(\"--Get data--\")\n",
        "mnist = tf.keras.datasets.mnist\n",
        "(x_train, y_train), (x_test, y_test) = mnist.load_data()\n",
        "\n",
        "print(\"--Process data--\")\n",
        "x_train, x_test = x_train / 255.0, x_test / 255.0\n",
        "\n",
        "print(\"--Make model--\")\n",
        "model = tf.keras.models.Sequential([\n",
        "  tf.keras.layers.Flatten(input_shape=(28, 28)),\n",
        "  tf.keras.layers.Dense(256, 'relu'),\n",
        "  tf.keras.layers.Dense(256, 'relu'),\n",
        "  tf.keras.layers.Dense(256, 'relu'),\n",
        "  tf.keras.layers.Dropout(0.3),\n",
        "  tf.keras.layers.Dense(10, 'softmax')\n",
        "])\n",
        "model.compile(optimizer='sgd', loss='sparse_categorical_crossentropy', metrics=['accuracy'])\n",
        "\n",
        "print(\"--Fit model--\")\n",
        "model.fit(x_train, y_train, epochs=30, verbose=2)\n",
        "\n",
        "print(\"--Evaluate model--\")\n",
        "model_loss, model_acc = model.evaluate(x_test,  y_test, verbose=2)\n",
        "print(f\"Model Loss:    {model_loss:.2f}\")\n",
        "print(f\"Model Accuray: {model_acc*100:.1f}%\")"
      ],
      "execution_count": 0,
      "outputs": [
        {
          "output_type": "stream",
          "text": [
            "--Get data--\n",
            "--Process data--\n",
            "--Make model--\n",
            "--Fit model--\n",
            "Train on 60000 samples\n",
            "Epoch 1/30\n",
            "60000/60000 - 8s - loss: 0.6809 - acc: 0.8034\n",
            "Epoch 2/30\n",
            "60000/60000 - 8s - loss: 0.2854 - acc: 0.9170\n",
            "Epoch 3/30\n",
            "60000/60000 - 8s - loss: 0.2196 - acc: 0.9366\n",
            "Epoch 4/30\n",
            "60000/60000 - 8s - loss: 0.1822 - acc: 0.9464\n",
            "Epoch 5/30\n",
            "60000/60000 - 8s - loss: 0.1554 - acc: 0.9542\n",
            "Epoch 6/30\n",
            "60000/60000 - 8s - loss: 0.1349 - acc: 0.9606\n",
            "Epoch 7/30\n",
            "60000/60000 - 8s - loss: 0.1204 - acc: 0.9646\n",
            "Epoch 8/30\n",
            "60000/60000 - 8s - loss: 0.1086 - acc: 0.9678\n",
            "Epoch 9/30\n",
            "60000/60000 - 8s - loss: 0.0984 - acc: 0.9708\n",
            "Epoch 10/30\n",
            "60000/60000 - 8s - loss: 0.0880 - acc: 0.9739\n",
            "Epoch 11/30\n",
            "60000/60000 - 8s - loss: 0.0805 - acc: 0.9758\n",
            "Epoch 12/30\n",
            "60000/60000 - 8s - loss: 0.0742 - acc: 0.9779\n",
            "Epoch 13/30\n",
            "60000/60000 - 8s - loss: 0.0673 - acc: 0.9804\n",
            "Epoch 14/30\n",
            "60000/60000 - 8s - loss: 0.0615 - acc: 0.9818\n",
            "Epoch 15/30\n",
            "60000/60000 - 8s - loss: 0.0580 - acc: 0.9830\n",
            "Epoch 16/30\n",
            "60000/60000 - 8s - loss: 0.0534 - acc: 0.9844\n",
            "Epoch 17/30\n",
            "60000/60000 - 8s - loss: 0.0502 - acc: 0.9857\n",
            "Epoch 18/30\n",
            "60000/60000 - 8s - loss: 0.0454 - acc: 0.9868\n",
            "Epoch 19/30\n",
            "60000/60000 - 8s - loss: 0.0427 - acc: 0.9878\n",
            "Epoch 20/30\n",
            "60000/60000 - 8s - loss: 0.0400 - acc: 0.9886\n",
            "Epoch 21/30\n",
            "60000/60000 - 8s - loss: 0.0369 - acc: 0.9896\n",
            "Epoch 22/30\n",
            "60000/60000 - 8s - loss: 0.0347 - acc: 0.9900\n",
            "Epoch 23/30\n",
            "60000/60000 - 8s - loss: 0.0326 - acc: 0.9907\n",
            "Epoch 24/30\n",
            "60000/60000 - 9s - loss: 0.0304 - acc: 0.9915\n",
            "Epoch 25/30\n",
            "60000/60000 - 8s - loss: 0.0286 - acc: 0.9915\n",
            "Epoch 26/30\n",
            "60000/60000 - 9s - loss: 0.0264 - acc: 0.9925\n",
            "Epoch 27/30\n",
            "60000/60000 - 8s - loss: 0.0256 - acc: 0.9929\n",
            "Epoch 28/30\n",
            "60000/60000 - 8s - loss: 0.0227 - acc: 0.9937\n",
            "Epoch 29/30\n",
            "60000/60000 - 8s - loss: 0.0219 - acc: 0.9938\n",
            "Epoch 30/30\n",
            "60000/60000 - 8s - loss: 0.0204 - acc: 0.9946\n",
            "--Evaluate model--\n",
            "10000/10000 - 1s - loss: 0.0636 - acc: 0.9805\n",
            "Model Loss:    0.06\n",
            "Model Accuray: 98.0%\n"
          ],
          "name": "stdout"
        }
      ]
    },
    {
      "cell_type": "code",
      "metadata": {
        "id": "uqKuNbSJEaWc",
        "colab_type": "code",
        "colab": {}
      },
      "source": [
        "model.save('MNIST.h5')"
      ],
      "execution_count": 0,
      "outputs": []
    },
    {
      "cell_type": "code",
      "metadata": {
        "id": "0Vc4ePZwERJW",
        "colab_type": "code",
        "colab": {}
      },
      "source": [
        "from google.colab import files\n",
        "files.download('MNIST.h5')"
      ],
      "execution_count": 0,
      "outputs": []
    }
  ]
}